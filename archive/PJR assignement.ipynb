{
 "cells": [
  {
   "cell_type": "markdown",
   "metadata": {},
   "source": [
    "# My Jupyter Notebook on IBM Watson Studio"
   ]
  },
  {
   "cell_type": "markdown",
   "metadata": {},
   "source": [
    "__Roch Peter James__<br>\n",
    "Economist-Statistician working as project developer on statistical applications"
   ]
  },
  {
   "cell_type": "markdown",
   "metadata": {},
   "source": [
    "_I'm interested in data science because my current projects at work require a revamp of our current data architecture, with an emphasis on data science._"
   ]
  },
  {
   "cell_type": "markdown",
   "metadata": {},
   "source": [
    "### My code here below loops through a range of 5 to print numbers from 0 to 4."
   ]
  },
  {
   "cell_type": "code",
   "execution_count": null,
   "metadata": {},
   "outputs": [],
   "source": [
    "for i in range(5):\n",
    "    print(i)"
   ]
  },
  {
   "cell_type": "markdown",
   "metadata": {},
   "source": [
    "Horizontal rule:<br><hr>\n",
    "\n",
    "Bulleted list:<br>\n",
    "- 123\n",
    "- 456\n",
    "\n",
    "Numbered list:<br>\n",
    "1. ABC\n",
    "2. DEF\n",
    "\n",
    "Table:<br>\n",
    "| Column 1 | Column 2 | Column 3 |\n",
    "| --- | --- | --- |\n",
    "| ABC | DEF | GHI |\n",
    "\n",
    "Hyperlink:<br>\n",
    "__[Google](http://www.google.com)__\n"
   ]
  }
 ],
 "metadata": {
  "kernelspec": {
   "display_name": "Python",
   "language": "python",
   "name": "conda-env-python-py"
  },
  "language_info": {
   "codemirror_mode": {
    "name": "ipython",
    "version": 3
   },
   "file_extension": ".py",
   "mimetype": "text/x-python",
   "name": "python",
   "nbconvert_exporter": "python",
   "pygments_lexer": "ipython3",
   "version": "3.7.6"
  }
 },
 "nbformat": 4,
 "nbformat_minor": 4
}
